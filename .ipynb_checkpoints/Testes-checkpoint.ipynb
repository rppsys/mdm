{
 "cells": [
  {
   "cell_type": "code",
   "execution_count": 1,
   "id": "6c11b342-9b06-4119-9b53-be8fca25a888",
   "metadata": {},
   "outputs": [],
   "source": [
    "# Carregar amostra para analise inicial"
   ]
  },
  {
   "cell_type": "code",
   "execution_count": null,
   "id": "dbcd3dfd-dd02-4bb5-823b-6ee6140ddc46",
   "metadata": {},
   "outputs": [],
   "source": [
    "import pandas as pd\n",
    "\n",
    "# Carregar o arquivo CSV\n",
    "df = pd.read_csv('amostra.csv')"
   ]
  }
 ],
 "metadata": {
  "kernelspec": {
   "display_name": "Python 3 (ipykernel)",
   "language": "python",
   "name": "python3"
  },
  "language_info": {
   "codemirror_mode": {
    "name": "ipython",
    "version": 3
   },
   "file_extension": ".py",
   "mimetype": "text/x-python",
   "name": "python",
   "nbconvert_exporter": "python",
   "pygments_lexer": "ipython3",
   "version": "3.8.10"
  }
 },
 "nbformat": 4,
 "nbformat_minor": 5
}

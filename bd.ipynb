{
 "cells": [
  {
   "cell_type": "code",
   "execution_count": 1,
   "id": "54f131fa-dc25-4fc0-925c-5448a9b4d7cb",
   "metadata": {},
   "outputs": [
    {
     "name": "stderr",
     "output_type": "stream",
     "text": [
      "[nltk_data] Downloading package stopwords to /home/ronie/nltk_data...\n",
      "[nltk_data]   Package stopwords is already up-to-date!\n",
      "[nltk_data] Downloading package punkt to /home/ronie/nltk_data...\n",
      "[nltk_data]   Package punkt is already up-to-date!\n"
     ]
    }
   ],
   "source": [
    "import bdmdm as bd"
   ]
  },
  {
   "cell_type": "code",
   "execution_count": 2,
   "id": "a435f34b-fdab-4c59-99b9-200699ee6b32",
   "metadata": {},
   "outputs": [],
   "source": [
    "strTmp = 'tmp'\n",
    "strData = 'data'\n",
    "strDir = 'dir'\n",
    "\n",
    "filenameRaw = '{}/raw.csv'.format(strData)\n",
    "filenameGood = '{}/good.csv'.format(strDir)\n",
    "filenameDocs = '{}/docs.txt'.format(strDir)\n",
    "filenameMeta = '{}/meta.json'.format(strDir)\n",
    "filenameDict = '{}/dictionary.dict'.format(strDir)\n",
    "filenameCorpus = '{}/corpus.mm'.format(strDir)\n",
    "filenameLSI = '{}/lsi_model.model'.format(strDir)\n",
    "filenameJsonTopics = '{}/topics.json'.format(strDir)\n",
    "filenameSelect = '{}/select.json'.format(strDir)"
   ]
  },
  {
   "cell_type": "code",
   "execution_count": 3,
   "id": "f0b3bded-65bf-4e95-b620-bbcd0d6e49aa",
   "metadata": {},
   "outputs": [],
   "source": [
    "# Parâmetros Externos\n",
    "filenameRep = 'listRep.json'"
   ]
  },
  {
   "cell_type": "code",
   "execution_count": 5,
   "id": "55aad43f-5178-40c2-b615-448e9a5857aa",
   "metadata": {},
   "outputs": [
    {
     "name": "stdout",
     "output_type": "stream",
     "text": [
      "\"dir/good.csv\" gerado!\n"
     ]
    }
   ],
   "source": [
    "bd.createNovoCSV(filenameRaw,filenameGood)\n"
   ]
  },
  {
   "cell_type": "code",
   "execution_count": null,
   "id": "3cc52535-c7b7-4ab9-8682-a1f8a167713f",
   "metadata": {},
   "outputs": [
    {
     "name": "stdout",
     "output_type": "stream",
     "text": [
      "listRep não existe... criando...\n",
      "Lendo documento #0\n",
      "Lendo documento #500\n",
      "Lendo documento #1000\n",
      "Lendo documento #1500\n",
      "Lendo documento #2000\n",
      "Lendo documento #2500\n",
      "Lendo documento #3000\n",
      "Lendo documento #3500\n",
      "Lendo documento #4000\n"
     ]
    }
   ],
   "source": [
    "bd.createDocs(filenameDocs,filenameGood,filenameMeta,filenameRep,5000,booSaveIntermediate=False,strPre='')"
   ]
  }
 ],
 "metadata": {
  "kernelspec": {
   "display_name": "vMDM",
   "language": "python",
   "name": "vmdm"
  },
  "language_info": {
   "codemirror_mode": {
    "name": "ipython",
    "version": 3
   },
   "file_extension": ".py",
   "mimetype": "text/x-python",
   "name": "python",
   "nbconvert_exporter": "python",
   "pygments_lexer": "ipython3",
   "version": "3.8.10"
  }
 },
 "nbformat": 4,
 "nbformat_minor": 5
}

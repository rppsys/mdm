{
 "cells": [
  {
   "cell_type": "code",
   "execution_count": 1,
   "id": "e32e07c0-31d0-46c3-aa6b-ce9aebcdebc4",
   "metadata": {},
   "outputs": [
    {
     "name": "stderr",
     "output_type": "stream",
     "text": [
      "[nltk_data] Downloading package stopwords to /home/ronie/nltk_data...\n",
      "[nltk_data]   Package stopwords is already up-to-date!\n",
      "[nltk_data] Downloading package punkt to /home/ronie/nltk_data...\n",
      "[nltk_data]   Package punkt is already up-to-date!\n"
     ]
    }
   ],
   "source": [
    "# Main.py - MDM\n",
    "import os\n",
    "import json\n",
    "from pprint import pprint  # pretty-printer\n",
    "from collections import defaultdict\n",
    "from gensim import corpora\n",
    "from gensim.corpora import Dictionary\n",
    "import pandas as pd\n",
    "from smart_open import open\n",
    "import operator\n",
    "\n",
    "# Para remover stop words e fazer todo tipo de tratamento\n",
    "import nltk\n",
    "from nltk.corpus import stopwords\n",
    "from nltk.tokenize import word_tokenize\n",
    "from bs4 import BeautifulSoup\n",
    "import string\n",
    "from unidecode import unidecode\n",
    "nltk.download('stopwords')\n",
    "nltk.download('punkt')\n",
    "\n",
    "# Modelo\n",
    "from gensim.models import LsiModel\n",
    "\n",
    "def saveDoc(filename,content):\n",
    "    with open(filename, \"w\") as f:\n",
    "        f.write(content)\n",
    "    print('{} gerado!'.format(filename))\n",
    "    f.close()\n"
   ]
  },
  {
   "cell_type": "code",
   "execution_count": 2,
   "id": "3b1a365a-05bb-44f5-bca8-dd104dc56665",
   "metadata": {},
   "outputs": [
    {
     "name": "stderr",
     "output_type": "stream",
     "text": [
      "[nltk_data] Downloading package stopwords to /home/ronie/nltk_data...\n",
      "[nltk_data]   Package stopwords is already up-to-date!\n",
      "[nltk_data] Downloading package punkt to /home/ronie/nltk_data...\n",
      "[nltk_data]   Package punkt is already up-to-date!\n"
     ]
    },
    {
     "ename": "NameError",
     "evalue": "name 'filenameData' is not defined",
     "output_type": "error",
     "traceback": [
      "\u001b[0;31m---------------------------------------------------------------------------\u001b[0m",
      "\u001b[0;31mNameError\u001b[0m                                 Traceback (most recent call last)",
      "Cell \u001b[0;32mIn[2], line 19\u001b[0m\n\u001b[1;32m     16\u001b[0m filenameRep \u001b[38;5;241m=\u001b[39m \u001b[38;5;124m'\u001b[39m\u001b[38;5;124mlistRep.json\u001b[39m\u001b[38;5;124m'\u001b[39m\n\u001b[1;32m     18\u001b[0m \u001b[38;5;66;03m# mdm.createNovoCSV(filenameRaw,filenameGood)\u001b[39;00m\n\u001b[0;32m---> 19\u001b[0m mdm\u001b[38;5;241m.\u001b[39mcreateDocs(filenameDocs,\u001b[43mfilenameData\u001b[49m,filenameMeta,filenameRep,\u001b[38;5;241m10\u001b[39m,booSaveIntermediate\u001b[38;5;241m=\u001b[39m\u001b[38;5;28;01mFalse\u001b[39;00m,strPre\u001b[38;5;241m=\u001b[39m\u001b[38;5;124m'\u001b[39m\u001b[38;5;124m'\u001b[39m)\n",
      "\u001b[0;31mNameError\u001b[0m: name 'filenameData' is not defined"
     ]
    }
   ],
   "source": [
    "import mdm\n",
    "\n",
    "strPre = 'T0507'\n",
    "\n",
    "filenameRaw = 'raw.csv'\n",
    "filenameGood = '{}-good.csv'.format(strPre)\n",
    "filenameDocs = '{}-docs.txt'.format(strPre)\n",
    "filenameMeta = '{}-meta.json'.format(strPre)\n",
    "filenameDict = '{}-dictionary.dict'.format(strPre)\n",
    "filenameCorpus = '{}-corpus.mm'.format(strPre)\n",
    "filenameLSI = '{}-lsi_model.model'.format(strPre)\n",
    "filenameJsonTopics = '{}-topics.json'.format(strPre)\n",
    "filenameSelect = '{}-select.json'.format(strPre)\n",
    "\n",
    "# Parâmetros Externos\n",
    "filenameRep = 'listRep.json'\n",
    "\n",
    "# mdm.createNovoCSV(filenameRaw,filenameGood)\n",
    "mdm.createDocs(filenameDocs,filenameGood,filenameMeta,filenameRep,10,booSaveIntermediate=False,strPre='')"
   ]
  }
 ],
 "metadata": {
  "kernelspec": {
   "display_name": "vMDM",
   "language": "python",
   "name": "vmdm"
  },
  "language_info": {
   "codemirror_mode": {
    "name": "ipython",
    "version": 3
   },
   "file_extension": ".py",
   "mimetype": "text/x-python",
   "name": "python",
   "nbconvert_exporter": "python",
   "pygments_lexer": "ipython3",
   "version": "3.8.10"
  }
 },
 "nbformat": 4,
 "nbformat_minor": 5
}

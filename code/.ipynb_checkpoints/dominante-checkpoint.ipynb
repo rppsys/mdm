{
 "cells": [
  {
   "cell_type": "code",
   "execution_count": null,
   "id": "71fc4f53-e915-4132-a809-d9aada8508bf",
   "metadata": {},
   "outputs": [],
   "source": [
    "import mdm\n",
    "\n",
    "filenameData = 'dados.csv'\n",
    "filenameDocs = 'docs.txt'\n",
    "filenameMeta = 'meta.json'\n",
    "filenameDict = 'dictionary.dict'\n",
    "filenameCorpus = 'corpus.mm'\n",
    "filenameLSI = 'lsi_model.model'\n",
    "filenameJsonTopics = 'topics.json'\n",
    "\n",
    "mdm.topicoDominante(filenameLSI,filenameCorpus,filenameMeta)"
   ]
  }
 ],
 "metadata": {
  "kernelspec": {
   "display_name": "vMDM",
   "language": "python",
   "name": "vmdm"
  },
  "language_info": {
   "codemirror_mode": {
    "name": "ipython",
    "version": 3
   },
   "file_extension": ".py",
   "mimetype": "text/x-python",
   "name": "python",
   "nbconvert_exporter": "python",
   "pygments_lexer": "ipython3",
   "version": "3.10.12"
  }
 },
 "nbformat": 4,
 "nbformat_minor": 5
}

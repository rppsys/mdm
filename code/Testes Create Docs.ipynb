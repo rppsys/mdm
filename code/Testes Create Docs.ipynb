{
 "cells": [
  {
   "cell_type": "code",
   "execution_count": 1,
   "id": "e32e07c0-31d0-46c3-aa6b-ce9aebcdebc4",
   "metadata": {},
   "outputs": [
    {
     "name": "stderr",
     "output_type": "stream",
     "text": [
      "[nltk_data] Downloading package stopwords to /home/ronie/nltk_data...\n",
      "[nltk_data]   Package stopwords is already up-to-date!\n",
      "[nltk_data] Downloading package punkt to /home/ronie/nltk_data...\n",
      "[nltk_data]   Package punkt is already up-to-date!\n"
     ]
    }
   ],
   "source": [
    "# Main.py - MDM\n",
    "import os\n",
    "import json\n",
    "from pprint import pprint  # pretty-printer\n",
    "from collections import defaultdict\n",
    "from gensim import corpora\n",
    "from gensim.corpora import Dictionary\n",
    "import pandas as pd\n",
    "from smart_open import open\n",
    "import operator\n",
    "\n",
    "# Para remover stop words e fazer todo tipo de tratamento\n",
    "import nltk\n",
    "from nltk.corpus import stopwords\n",
    "from nltk.tokenize import word_tokenize\n",
    "from bs4 import BeautifulSoup\n",
    "import string\n",
    "from unidecode import unidecode\n",
    "nltk.download('stopwords')\n",
    "nltk.download('punkt')\n",
    "\n",
    "# Modelo\n",
    "from gensim.models import LsiModel\n",
    "\n",
    "def saveDoc(filename,content):\n",
    "    with open(filename, \"w\") as f:\n",
    "        f.write(content)\n",
    "    print('{} gerado!'.format(filename))\n",
    "    f.close()\n"
   ]
  },
  {
   "cell_type": "code",
   "execution_count": 1,
   "id": "3b1a365a-05bb-44f5-bca8-dd104dc56665",
   "metadata": {},
   "outputs": [
    {
     "name": "stderr",
     "output_type": "stream",
     "text": [
      "[nltk_data] Downloading package stopwords to /home/ronie/nltk_data...\n",
      "[nltk_data]   Package stopwords is already up-to-date!\n",
      "[nltk_data] Downloading package punkt to /home/ronie/nltk_data...\n",
      "[nltk_data]   Package punkt is already up-to-date!\n"
     ]
    },
    {
     "name": "stdout",
     "output_type": "stream",
     "text": [
      "listRep não existe... criando...\n",
      "Lendo documento #0\n",
      "tmp/T0507-A-html_0.html gerado!\n",
      "tmp/T0507-B-out_0.txt gerado!\n",
      "tmp/T0507-C-final_0.txt gerado!\n",
      "Lendo documento #1\n",
      "tmp/T0507-A-html_1.html gerado!\n",
      "tmp/T0507-B-out_1.txt gerado!\n",
      "tmp/T0507-C-final_1.txt gerado!\n",
      "Lendo documento #2\n",
      "tmp/T0507-A-html_2.html gerado!\n",
      "tmp/T0507-B-out_2.txt gerado!\n",
      "tmp/T0507-C-final_2.txt gerado!\n",
      "Lendo documento #3\n",
      "tmp/T0507-A-html_3.html gerado!\n",
      "tmp/T0507-B-out_3.txt gerado!\n",
      "tmp/T0507-C-final_3.txt gerado!\n",
      "Lendo documento #4\n",
      "tmp/T0507-A-html_4.html gerado!\n",
      "tmp/T0507-B-out_4.txt gerado!\n",
      "tmp/T0507-C-final_4.txt gerado!\n",
      "Lendo documento #5\n",
      "tmp/T0507-A-html_5.html gerado!\n",
      "tmp/T0507-B-out_5.txt gerado!\n",
      "tmp/T0507-C-final_5.txt gerado!\n",
      "Lendo documento #6\n",
      "tmp/T0507-A-html_6.html gerado!\n",
      "tmp/T0507-B-out_6.txt gerado!\n",
      "tmp/T0507-C-final_6.txt gerado!\n",
      "Lendo documento #7\n",
      "tmp/T0507-A-html_7.html gerado!\n",
      "tmp/T0507-B-out_7.txt gerado!\n",
      "tmp/T0507-C-final_7.txt gerado!\n",
      "Lendo documento #8\n",
      "tmp/T0507-A-html_8.html gerado!\n",
      "tmp/T0507-B-out_8.txt gerado!\n",
      "tmp/T0507-C-final_8.txt gerado!\n",
      "Lendo documento #9\n",
      "tmp/T0507-A-html_9.html gerado!\n",
      "tmp/T0507-B-out_9.txt gerado!\n",
      "tmp/T0507-C-final_9.txt gerado!\n",
      "Lendo documento #10\n",
      "tmp/T0507-A-html_10.html gerado!\n",
      "tmp/T0507-B-out_10.txt gerado!\n",
      "tmp/T0507-C-final_10.txt gerado!\n",
      "Lendo documento #11\n",
      "tmp/T0507-A-html_11.html gerado!\n",
      "tmp/T0507-B-out_11.txt gerado!\n",
      "tmp/T0507-C-final_11.txt gerado!\n",
      "Docs \"T0507-docs.txt\" gerado!\n",
      "Meta \"T0507-meta.json\" gerado!\n"
     ]
    }
   ],
   "source": [
    "import mdm\n",
    "\n",
    "strPre = 'T0507'\n",
    "\n",
    "filenameRaw = 'raw.csv'\n",
    "filenameGood = '{}-good.csv'.format(strPre)\n",
    "filenameDocs = '{}-docs.txt'.format(strPre)\n",
    "filenameMeta = '{}-meta.json'.format(strPre)\n",
    "filenameDict = '{}-dictionary.dict'.format(strPre)\n",
    "filenameCorpus = '{}-corpus.mm'.format(strPre)\n",
    "filenameLSI = '{}-lsi_model.model'.format(strPre)\n",
    "filenameJsonTopics = '{}-topics.json'.format(strPre)\n",
    "filenameSelect = '{}-select.json'.format(strPre)\n",
    "\n",
    "# Parâmetros Externos\n",
    "filenameRep = 'listRep.json'\n",
    "\n",
    "# mdm.createNovoCSV(filenameRaw,filenameGood)\n",
    "mdm.createDocs(filenameDocs,filenameGood,filenameMeta,filenameRep,10,booSaveIntermediate=True,strPre=strPre)"
   ]
  },
  {
   "cell_type": "code",
   "execution_count": 5,
   "id": "78d6e99b-abd7-483b-923f-682efecb89e8",
   "metadata": {},
   "outputs": [],
   "source": [
    "tokens_without_rep = ['oi','tudo','bem','meu','amigo']\n",
    "\n",
    "tokens_bigger = [word for word in tokens_without_rep if len(word) > 3]"
   ]
  },
  {
   "cell_type": "code",
   "execution_count": 6,
   "id": "4166370a-e04f-42bd-b764-9a02dc5cd248",
   "metadata": {},
   "outputs": [
    {
     "data": {
      "text/plain": [
       "['tudo', 'amigo']"
      ]
     },
     "execution_count": 6,
     "metadata": {},
     "output_type": "execute_result"
    }
   ],
   "source": [
    "tokens_bigger"
   ]
  }
 ],
 "metadata": {
  "kernelspec": {
   "display_name": "vMDM",
   "language": "python",
   "name": "vmdm"
  },
  "language_info": {
   "codemirror_mode": {
    "name": "ipython",
    "version": 3
   },
   "file_extension": ".py",
   "mimetype": "text/x-python",
   "name": "python",
   "nbconvert_exporter": "python",
   "pygments_lexer": "ipython3",
   "version": "3.8.10"
  }
 },
 "nbformat": 4,
 "nbformat_minor": 5
}

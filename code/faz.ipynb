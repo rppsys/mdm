{
 "cells": [
  {
   "cell_type": "code",
   "execution_count": 1,
   "id": "c40bd9f4-98ba-41a7-9382-a30d74bda823",
   "metadata": {},
   "outputs": [
    {
     "name": "stderr",
     "output_type": "stream",
     "text": [
      "[nltk_data] Downloading package stopwords to /home/ronie/nltk_data...\n",
      "[nltk_data]   Package stopwords is already up-to-date!\n",
      "[nltk_data] Downloading package punkt to /home/ronie/nltk_data...\n",
      "[nltk_data]   Package punkt is already up-to-date!\n"
     ]
    },
    {
     "name": "stdout",
     "output_type": "stream",
     "text": [
      "\"good.csv\" gerado!\n",
      "Lendo documento #0\n",
      "Lendo documento #200\n",
      "Lendo documento #400\n",
      "Lendo documento #600\n",
      "Lendo documento #800\n",
      "Lendo documento #1000\n",
      "Lendo documento #1200\n",
      "Lendo documento #1400\n",
      "Lendo documento #1600\n",
      "Lendo documento #1800\n",
      "Lendo documento #2000\n",
      "Docs \"docs.txt\" gerado!\n",
      "Meta \"meta.json\" gerado!\n",
      "Dictionary \"dictionary.dict\" gerado!\n",
      "Dictionary<11735 unique tokens: ['-', '12', '14064', '15', '18']...>\n",
      "Corpus corpus.mm gerado!\n",
      "Modelo lsi lsi_model.model gerado!\n",
      "Tópicos topics.json gerado!\n",
      "Ocorreu um erro: max() arg is an empty sequence\n",
      "Ocorreu um erro: max() arg is an empty sequence\n",
      "Ocorreu um erro: max() arg is an empty sequence\n",
      "Ocorreu um erro: max() arg is an empty sequence\n",
      "Meta meta.json atualizado com as classes\n",
      "Select meta.json criado!\n"
     ]
    }
   ],
   "source": [
    "import mdm\n",
    "\n",
    "filenameRaw = 'raw.csv'\n",
    "filenameGood = 'good.csv'\n",
    "filenameDocs = 'docs.txt'\n",
    "filenameMeta = 'meta.json'\n",
    "filenameDict = 'dictionary.dict'\n",
    "filenameCorpus = 'corpus.mm'\n",
    "filenameLSI = 'lsi_model.model'\n",
    "filenameJsonTopics = 'topics.json'\n",
    "filenameSelect = 'select.json'\n",
    "\n",
    "mdm.createNovoCSV(filenameRaw,filenameGood)\n",
    "mdm.createDocs(filenameDocs,filenameGood,filenameMeta,2000)\n",
    "mdm.createDictionary(filenameDocs,filenameDict)\n",
    "mdm.createCorpus(filenameDocs,filenameDict,filenameCorpus)\n",
    "mdm.createLSI(filenameCorpus,filenameDict,30,filenameLSI)\n",
    "mdm.createJsonTopics(filenameLSI,30,filenameJsonTopics)\n",
    "mdm.topicoDominante(filenameLSI,filenameCorpus,filenameMeta,filenameSelect)"
   ]
  }
 ],
 "metadata": {
  "kernelspec": {
   "display_name": "vMDM",
   "language": "python",
   "name": "vmdm"
  },
  "language_info": {
   "codemirror_mode": {
    "name": "ipython",
    "version": 3
   },
   "file_extension": ".py",
   "mimetype": "text/x-python",
   "name": "python",
   "nbconvert_exporter": "python",
   "pygments_lexer": "ipython3",
   "version": "3.10.12"
  }
 },
 "nbformat": 4,
 "nbformat_minor": 5
}

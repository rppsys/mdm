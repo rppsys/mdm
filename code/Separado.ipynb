{
 "cells": [
  {
   "cell_type": "code",
   "execution_count": 1,
   "id": "47c6fc3c-9892-4a8e-a9f5-69768ec40884",
   "metadata": {},
   "outputs": [
    {
     "name": "stdout",
     "output_type": "stream",
     "text": [
      "Ocorreu um erro: max() arg is an empty sequence\n",
      "Meta meta.json atualizado com as classes\n",
      "Select meta.json criado!\n"
     ]
    },
    {
     "name": "stderr",
     "output_type": "stream",
     "text": [
      "[nltk_data] Downloading package stopwords to /home/ronie/nltk_data...\n",
      "[nltk_data]   Package stopwords is already up-to-date!\n",
      "[nltk_data] Downloading package punkt to /home/ronie/nltk_data...\n",
      "[nltk_data]   Package punkt is already up-to-date!\n"
     ]
    }
   ],
   "source": [
    "import mdm\n",
    "\n",
    "filenameData = 'dados.csv'\n",
    "filenameDocs = 'docs.txt'\n",
    "filenameMeta = 'meta.json'\n",
    "filenameDict = 'dictionary.dict'\n",
    "filenameCorpus = 'corpus.mm'\n",
    "filenameLSI = 'lsi_model.model'\n",
    "filenameJsonTopics = 'topics.json'\n",
    "filenameSelect = 'select.json'\n",
    "\n",
    "mdm.topicoDominante(filenameLSI,filenameCorpus,filenameMeta,filenameSelect)"
   ]
  },
  {
   "cell_type": "code",
   "execution_count": 4,
   "id": "e834de34-6f1a-4164-a563-4793f5f850b4",
   "metadata": {},
   "outputs": [
    {
     "name": "stdout",
     "output_type": "stream",
     "text": [
      "Dictionary dictionary.dict gerado!\n",
      "Dictionary<3426 unique tokens: [',', '-', '14', '1o', '2']...>\n"
     ]
    }
   ],
   "source": [
    "import mdm\n",
    "filenameData = 'dados.csv'\n",
    "filenameDocs = 'docs.txt'\n",
    "filenameMeta = 'meta.json'\n",
    "filenameDict = 'dictionary.dict'\n",
    "filenameCorpus = 'corpus.mm'\n",
    "filenameLSI = 'lsi_model.model'\n",
    "filenameJsonTopics = 'topics.json'\n",
    "\n",
    "mdm.createDictionary(filenameDocs,filenameDict)\n",
    "dictionary = mdm.loadDictionary(filenameDict)\n",
    "print(dictionary)"
   ]
  },
  {
   "cell_type": "code",
   "execution_count": 1,
   "id": "24272d31-bfcf-4190-a34f-7bddf98b75f2",
   "metadata": {},
   "outputs": [
    {
     "name": "stdout",
     "output_type": "stream",
     "text": [
      "Corpus corpus.mm gerado!\n",
      "MmCorpus(102 documents, 3426 features, 24265 non-zero entries)\n"
     ]
    },
    {
     "name": "stderr",
     "output_type": "stream",
     "text": [
      "[nltk_data] Downloading package stopwords to /home/ronie/nltk_data...\n",
      "[nltk_data]   Package stopwords is already up-to-date!\n",
      "[nltk_data] Downloading package punkt to /home/ronie/nltk_data...\n",
      "[nltk_data]   Package punkt is already up-to-date!\n"
     ]
    }
   ],
   "source": [
    "import mdm\n",
    "filenameData = 'dados.csv'\n",
    "filenameDocs = 'docs.txt'\n",
    "filenameMeta = 'meta.json'\n",
    "filenameDict = 'dictionary.dict'\n",
    "filenameCorpus = 'corpus.mm'\n",
    "filenameLSI = 'lsi_model.model'\n",
    "filenameJsonTopics = 'topics.json'\n",
    "\n",
    "mdm.createCorpus(filenameDocs,filenameDict,filenameCorpus)\n",
    "corpus = mdm.loadCorpus(filenameCorpus)\n",
    "print(corpus)"
   ]
  },
  {
   "cell_type": "code",
   "execution_count": 2,
   "id": "54003139-35bd-4e47-a9c2-5082285ec166",
   "metadata": {},
   "outputs": [
    {
     "name": "stdout",
     "output_type": "stream",
     "text": [
      "Modelo lsi lsi_model.model gerado!\n",
      "LsiModel<num_terms=3426, num_topics=30, decay=1.0, chunksize=20000>\n"
     ]
    }
   ],
   "source": [
    "import mdm\n",
    "filenameData = 'dados.csv'\n",
    "filenameDocs = 'docs.txt'\n",
    "filenameMeta = 'meta.json'\n",
    "filenameDict = 'dictionary.dict'\n",
    "filenameCorpus = 'corpus.mm'\n",
    "filenameLSI = 'lsi_model.model'\n",
    "filenameJsonTopics = 'topics.json'\n",
    "\n",
    "mdm.createLSI(filenameCorpus,filenameDict,30,filenameLSI)\n",
    "lsi = mdm.loadLSI(filenameLSI)\n",
    "print(lsi)"
   ]
  },
  {
   "cell_type": "code",
   "execution_count": 1,
   "id": "abdc82c3-f2b0-49ba-9385-b76ff8e61353",
   "metadata": {},
   "outputs": [
    {
     "name": "stdout",
     "output_type": "stream",
     "text": [
      "Tópicos topics.json gerado!\n"
     ]
    },
    {
     "name": "stderr",
     "output_type": "stream",
     "text": [
      "[nltk_data] Downloading package stopwords to /home/ronie/nltk_data...\n",
      "[nltk_data]   Package stopwords is already up-to-date!\n",
      "[nltk_data] Downloading package punkt to /home/ronie/nltk_data...\n",
      "[nltk_data]   Package punkt is already up-to-date!\n"
     ]
    }
   ],
   "source": [
    "import mdm\n",
    "filenameData = 'dados.csv'\n",
    "filenameDocs = 'docs.txt'\n",
    "filenameMeta = 'meta.json'\n",
    "filenameDict = 'dictionary.dict'\n",
    "filenameCorpus = 'corpus.mm'\n",
    "filenameLSI = 'lsi_model.model'\n",
    "filenameJsonTopics = 'topics.json'\n",
    "\n",
    "mdm.createJsonTopics(filenameLSI,30,filenameJsonTopics)"
   ]
  }
 ],
 "metadata": {
  "kernelspec": {
   "display_name": "vMDM",
   "language": "python",
   "name": "vmdm"
  },
  "language_info": {
   "codemirror_mode": {
    "name": "ipython",
    "version": 3
   },
   "file_extension": ".py",
   "mimetype": "text/x-python",
   "name": "python",
   "nbconvert_exporter": "python",
   "pygments_lexer": "ipython3",
   "version": "3.10.12"
  }
 },
 "nbformat": 4,
 "nbformat_minor": 5
}

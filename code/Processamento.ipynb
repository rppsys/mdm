{
 "cells": [
  {
   "cell_type": "code",
   "execution_count": 1,
   "id": "8c69cad0-2e77-4955-99af-b66ac04d76c2",
   "metadata": {},
   "outputs": [
    {
     "name": "stderr",
     "output_type": "stream",
     "text": [
      "[nltk_data] Downloading package stopwords to /home/ronie/nltk_data...\n",
      "[nltk_data]   Package stopwords is already up-to-date!\n",
      "[nltk_data] Downloading package punkt to /home/ronie/nltk_data...\n",
      "[nltk_data]   Package punkt is already up-to-date!\n"
     ]
    }
   ],
   "source": [
    "import mdm\n",
    "\n",
    "filenameRaw = 'raw.csv'\n",
    "filenameGood = 'good.csv'\n",
    "filenameDocs = 'docs.txt'\n",
    "filenameMeta = 'meta.json'\n",
    "filenameDict = 'dictionary.dict'\n",
    "filenameCorpus = 'corpus.mm'\n",
    "filenameLSI = 'lsi_model.model'\n",
    "filenameJsonTopics = 'topics.json'\n"
   ]
  },
  {
   "cell_type": "code",
   "execution_count": 2,
   "id": "6896a6ec-75de-47ee-962b-cb0e5a034aa9",
   "metadata": {},
   "outputs": [],
   "source": [
    "mdm.createNovoCSV(filenameRaw,filenameGood)"
   ]
  },
  {
   "cell_type": "code",
   "execution_count": 2,
   "id": "1227f22c-ffc0-4056-bc42-f466e1637f94",
   "metadata": {},
   "outputs": [
    {
     "name": "stdout",
     "output_type": "stream",
     "text": [
      "Lendo documento #0\n",
      "Lendo documento #50\n",
      "Lendo documento #100\n",
      "Lendo documento #150\n",
      "Lendo documento #200\n",
      "Lendo documento #250\n",
      "Lendo documento #300\n",
      "Lendo documento #350\n",
      "Lendo documento #400\n",
      "Lendo documento #450\n",
      "Lendo documento #500\n",
      "Docs docs.txt gerado!\n",
      "Meta meta.json gerado!\n"
     ]
    }
   ],
   "source": [
    "mdm.createDocs(filenameDocs,filenameGood,filenameMeta,500)"
   ]
  },
  {
   "cell_type": "code",
   "execution_count": 3,
   "id": "3d4e125f-8823-4da7-b48b-4a93639b9e59",
   "metadata": {},
   "outputs": [
    {
     "name": "stdout",
     "output_type": "stream",
     "text": [
      "Dictionary dictionary.dict gerado!\n"
     ]
    }
   ],
   "source": [
    "mdm.createDictionary(filenameDocs,filenameDict)"
   ]
  },
  {
   "cell_type": "code",
   "execution_count": 4,
   "id": "5062fb2a-f2db-4a5f-b1be-3048719cb633",
   "metadata": {},
   "outputs": [
    {
     "name": "stdout",
     "output_type": "stream",
     "text": [
      "Corpus corpus.mm gerado!\n"
     ]
    }
   ],
   "source": [
    "mdm.createCorpus(filenameDocs,filenameDict,filenameCorpus)"
   ]
  },
  {
   "cell_type": "code",
   "execution_count": 5,
   "id": "e1b851e6-99f1-403b-92c2-91745a8c707b",
   "metadata": {},
   "outputs": [
    {
     "name": "stdout",
     "output_type": "stream",
     "text": [
      "Modelo lsi lsi_model.model gerado!\n"
     ]
    }
   ],
   "source": [
    "mdm.createLSI(filenameCorpus,filenameDict,30,filenameLSI)"
   ]
  },
  {
   "cell_type": "code",
   "execution_count": 6,
   "id": "00eb9436-7057-4bd3-826f-9d21389a1564",
   "metadata": {},
   "outputs": [
    {
     "name": "stdout",
     "output_type": "stream",
     "text": [
      "Tópicos topics.json gerado!\n"
     ]
    }
   ],
   "source": [
    "mdm.createJsonTopics(filenameLSI,30,filenameJsonTopics)"
   ]
  },
  {
   "cell_type": "code",
   "execution_count": 1,
   "id": "15900ae0-9b31-4da9-b045-c25430709122",
   "metadata": {},
   "outputs": [
    {
     "name": "stdout",
     "output_type": "stream",
     "text": [
      "Ocorreu um erro: max() arg is an empty sequence\n",
      "Meta meta.json atualizado!\n"
     ]
    },
    {
     "name": "stderr",
     "output_type": "stream",
     "text": [
      "[nltk_data] Downloading package stopwords to /home/ronie/nltk_data...\n",
      "[nltk_data]   Package stopwords is already up-to-date!\n",
      "[nltk_data] Downloading package punkt to /home/ronie/nltk_data...\n",
      "[nltk_data]   Package punkt is already up-to-date!\n"
     ]
    }
   ],
   "source": [
    "import mdm\n",
    "\n",
    "filenameRaw = 'raw.csv'\n",
    "filenameGood = 'good.csv'\n",
    "filenameDocs = 'docs.txt'\n",
    "filenameMeta = 'meta.json'\n",
    "filenameDict = 'dictionary.dict'\n",
    "filenameCorpus = 'corpus.mm'\n",
    "filenameLSI = 'lsi_model.model'\n",
    "filenameJsonTopics = 'topics.json'\n",
    "\n",
    "mdm.topicoDominante(filenameLSI,filenameCorpus,filenameMeta)"
   ]
  },
  {
   "cell_type": "code",
   "execution_count": null,
   "id": "4627707e-0881-468a-b5d5-e59f9550640f",
   "metadata": {},
   "outputs": [],
   "source": []
  }
 ],
 "metadata": {
  "kernelspec": {
   "display_name": "vMDM",
   "language": "python",
   "name": "vmdm"
  },
  "language_info": {
   "codemirror_mode": {
    "name": "ipython",
    "version": 3
   },
   "file_extension": ".py",
   "mimetype": "text/x-python",
   "name": "python",
   "nbconvert_exporter": "python",
   "pygments_lexer": "ipython3",
   "version": "3.10.12"
  }
 },
 "nbformat": 4,
 "nbformat_minor": 5
}

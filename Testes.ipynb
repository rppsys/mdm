{
 "cells": [
  {
   "cell_type": "code",
   "execution_count": 1,
   "id": "77e7dd5e-5926-4bb9-9288-be6b7ce2baac",
   "metadata": {},
   "outputs": [],
   "source": [
    "from pprint import pprint  # pretty-printer\n",
    "from collections import defaultdict\n",
    "from gensim import corpora\n"
   ]
  },
  {
   "cell_type": "code",
   "execution_count": 7,
   "id": "00335f23-73c1-4dab-8647-1c1648f1bb04",
   "metadata": {},
   "outputs": [],
   "source": [
    "import pandas as pd\n",
    "df = pd.read_csv('amostra.csv',delimiter=';',header=None)"
   ]
  },
  {
   "cell_type": "code",
   "execution_count": 8,
   "id": "02f37523-b633-4ad0-af67-153dd885eda5",
   "metadata": {},
   "outputs": [
    {
     "data": {
      "text/html": [
       "<div>\n",
       "<style scoped>\n",
       "    .dataframe tbody tr th:only-of-type {\n",
       "        vertical-align: middle;\n",
       "    }\n",
       "\n",
       "    .dataframe tbody tr th {\n",
       "        vertical-align: top;\n",
       "    }\n",
       "\n",
       "    .dataframe thead th {\n",
       "        text-align: right;\n",
       "    }\n",
       "</style>\n",
       "<table border=\"1\" class=\"dataframe\">\n",
       "  <thead>\n",
       "    <tr style=\"text-align: right;\">\n",
       "      <th></th>\n",
       "      <th>0</th>\n",
       "      <th>1</th>\n",
       "      <th>2</th>\n",
       "      <th>3</th>\n",
       "      <th>4</th>\n",
       "      <th>5</th>\n",
       "      <th>6</th>\n",
       "    </tr>\n",
       "  </thead>\n",
       "  <tbody>\n",
       "    <tr>\n",
       "      <th>0</th>\n",
       "      <td>76</td>\n",
       "      <td>5612/2021</td>\n",
       "      <td>164</td>\n",
       "      <td>Indicação Iluminação  Monumento Cruzeiro do Sul</td>\n",
       "      <td>257</td>\n",
       "      <td>&lt;div class=\"editavel\"&gt;&lt;figure class=\"table\"&gt;&lt;t...</td>\n",
       "      <td>Outro</td>\n",
       "    </tr>\n",
       "    <tr>\n",
       "      <th>1</th>\n",
       "      <td>76</td>\n",
       "      <td>5612/2021</td>\n",
       "      <td>168</td>\n",
       "      <td>Indicação Iluminação  Monumento Cruzeiro do Sul</td>\n",
       "      <td>257</td>\n",
       "      <td>&lt;div class=\"editavel\"&gt;&lt;figure class=\"table\"&gt;&lt;t...</td>\n",
       "      <td>Outro</td>\n",
       "    </tr>\n",
       "    <tr>\n",
       "      <th>2</th>\n",
       "      <td>80</td>\n",
       "      <td>1683/2021</td>\n",
       "      <td>180</td>\n",
       "      <td>Institui a Política Distrital de Promoção da T...</td>\n",
       "      <td>265</td>\n",
       "      <td>&lt;div class=\"editavel\"&gt;&lt;figure class=\"table\"&gt;&lt;t...</td>\n",
       "      <td>Fiscalização e Governança</td>\n",
       "    </tr>\n",
       "    <tr>\n",
       "      <th>3</th>\n",
       "      <td>80</td>\n",
       "      <td>1683/2021</td>\n",
       "      <td>181</td>\n",
       "      <td>Institui a Política Distrital de Promoção da T...</td>\n",
       "      <td>265</td>\n",
       "      <td>&lt;div class=\"editavel\"&gt;&lt;figure class=\"table\"&gt;&lt;t...</td>\n",
       "      <td>Fiscalização e Governança</td>\n",
       "    </tr>\n",
       "    <tr>\n",
       "      <th>4</th>\n",
       "      <td>80</td>\n",
       "      <td>1683/2021</td>\n",
       "      <td>182</td>\n",
       "      <td>Institui a Política Distrital de Promoção da T...</td>\n",
       "      <td>265</td>\n",
       "      <td>&lt;div class=\"editavel\"&gt;&lt;figure class=\"table\"&gt;&lt;t...</td>\n",
       "      <td>Fiscalização e Governança</td>\n",
       "    </tr>\n",
       "    <tr>\n",
       "      <th>5</th>\n",
       "      <td>78</td>\n",
       "      <td>1682/2021</td>\n",
       "      <td>183</td>\n",
       "      <td>NaN</td>\n",
       "      <td>266</td>\n",
       "      <td>&lt;div class=\"editavel\"&gt;&lt;figure class=\"table\"&gt;&lt;t...</td>\n",
       "      <td>Defesa do Consumidor</td>\n",
       "    </tr>\n",
       "    <tr>\n",
       "      <th>6</th>\n",
       "      <td>78</td>\n",
       "      <td>1682/2021</td>\n",
       "      <td>184</td>\n",
       "      <td>NaN</td>\n",
       "      <td>266</td>\n",
       "      <td>&lt;div class=\"editavel\"&gt;&lt;figure class=\"table\"&gt;&lt;t...</td>\n",
       "      <td>Defesa do Consumidor</td>\n",
       "    </tr>\n",
       "    <tr>\n",
       "      <th>7</th>\n",
       "      <td>46</td>\n",
       "      <td>1680/2021</td>\n",
       "      <td>185</td>\n",
       "      <td>NaN</td>\n",
       "      <td>267</td>\n",
       "      <td>&lt;div class=\"editavel\"&gt;&lt;figure class=\"table\"&gt;&lt;t...</td>\n",
       "      <td>Defesa do Consumidor</td>\n",
       "    </tr>\n",
       "    <tr>\n",
       "      <th>8</th>\n",
       "      <td>46</td>\n",
       "      <td>1680/2021</td>\n",
       "      <td>186</td>\n",
       "      <td>NaN</td>\n",
       "      <td>267</td>\n",
       "      <td>&lt;div class=\"editavel\"&gt;&lt;figure class=\"table\"&gt;&lt;t...</td>\n",
       "      <td>Defesa do Consumidor</td>\n",
       "    </tr>\n",
       "    <tr>\n",
       "      <th>9</th>\n",
       "      <td>81</td>\n",
       "      <td>1684/2021</td>\n",
       "      <td>187</td>\n",
       "      <td>Institui a Campanha de Conscientização e Preve...</td>\n",
       "      <td>268</td>\n",
       "      <td>&lt;div class=\"editavel\"&gt;&lt;figure class=\"table\"&gt;&lt;t...</td>\n",
       "      <td>Assunto Social</td>\n",
       "    </tr>\n",
       "  </tbody>\n",
       "</table>\n",
       "</div>"
      ],
      "text/plain": [
       "    0          1    2                                                  3    4  \\\n",
       "0  76  5612/2021  164    Indicação Iluminação  Monumento Cruzeiro do Sul  257   \n",
       "1  76  5612/2021  168    Indicação Iluminação  Monumento Cruzeiro do Sul  257   \n",
       "2  80  1683/2021  180  Institui a Política Distrital de Promoção da T...  265   \n",
       "3  80  1683/2021  181  Institui a Política Distrital de Promoção da T...  265   \n",
       "4  80  1683/2021  182  Institui a Política Distrital de Promoção da T...  265   \n",
       "5  78  1682/2021  183                                                NaN  266   \n",
       "6  78  1682/2021  184                                                NaN  266   \n",
       "7  46  1680/2021  185                                                NaN  267   \n",
       "8  46  1680/2021  186                                                NaN  267   \n",
       "9  81  1684/2021  187  Institui a Campanha de Conscientização e Preve...  268   \n",
       "\n",
       "                                                   5  \\\n",
       "0  <div class=\"editavel\"><figure class=\"table\"><t...   \n",
       "1  <div class=\"editavel\"><figure class=\"table\"><t...   \n",
       "2  <div class=\"editavel\"><figure class=\"table\"><t...   \n",
       "3  <div class=\"editavel\"><figure class=\"table\"><t...   \n",
       "4  <div class=\"editavel\"><figure class=\"table\"><t...   \n",
       "5  <div class=\"editavel\"><figure class=\"table\"><t...   \n",
       "6  <div class=\"editavel\"><figure class=\"table\"><t...   \n",
       "7  <div class=\"editavel\"><figure class=\"table\"><t...   \n",
       "8  <div class=\"editavel\"><figure class=\"table\"><t...   \n",
       "9  <div class=\"editavel\"><figure class=\"table\"><t...   \n",
       "\n",
       "                           6  \n",
       "0                      Outro  \n",
       "1                      Outro  \n",
       "2  Fiscalização e Governança  \n",
       "3  Fiscalização e Governança  \n",
       "4  Fiscalização e Governança  \n",
       "5       Defesa do Consumidor  \n",
       "6       Defesa do Consumidor  \n",
       "7       Defesa do Consumidor  \n",
       "8       Defesa do Consumidor  \n",
       "9             Assunto Social  "
      ]
     },
     "execution_count": 8,
     "metadata": {},
     "output_type": "execute_result"
    }
   ],
   "source": [
    "df"
   ]
  },
  {
   "cell_type": "code",
   "execution_count": 39,
   "id": "d575957c-5754-4615-b9b9-246d67a6b148",
   "metadata": {},
   "outputs": [],
   "source": [
    "def read_csv(file_name):\n",
    "    for chunk in pd.read_csv(file_name, chunksize=1,delimiter=';',header=None):\n",
    "        yield chunk\n",
    "\n",
    "f = open('corpus.txt','a+')\n",
    "for i,row in enumerate(read_csv('amostra.csv')):\n",
    "    value = row.iat[0, 5]\n",
    "    f.write(value + '\\n')\n"
   ]
  },
  {
   "cell_type": "code",
   "execution_count": 32,
   "id": "91a6fbb0-8057-4370-9019-ff5204a6e6a6",
   "metadata": {},
   "outputs": [
    {
     "data": {
      "text/plain": [
       "'<div class=\"editavel\"><figure class=\"table\"><table><tbody><tr><td><figure class=\"image\"><img src=\"/pleservico/api/upload/imagem/brasao.png\"></figure></td><td><p class=\"I16_Tabela_Texto_Centralizado_Maiscula_Negrito_12\">CÂMARA LEGISLATIVA DO DISTRITO FEDERAL</p><p class=\"I16_Tabela_Texto_Centralizado_10\"><span style=\"color:rgb(0,0,0);\">GABINETE DO DEPUTADO ROOSEVELT VILELA - GAB. 14</p><p>&nbsp; &nbsp; &nbsp; &nbsp; &nbsp; &nbsp; &nbsp; &nbsp; &nbsp; &nbsp; &nbsp; &nbsp; &nbsp; &nbsp; &nbsp; &nbsp; &nbsp; &nbsp; &nbsp; &nbsp; &nbsp; &nbsp; &nbsp; &nbsp; &nbsp; &nbsp; &nbsp; &nbsp; &nbsp; &nbsp; &nbsp; &nbsp; &nbsp; &nbsp; &nbsp; &nbsp; &nbsp; &nbsp; &nbsp; &nbsp; &nbsp; &nbsp; &nbsp; &nbsp; &nbsp; &nbsp; &nbsp; &nbsp; &nbsp; &nbsp; &nbsp; &nbsp; &nbsp; &nbsp; &nbsp; &nbsp; &nbsp; &nbsp; &nbsp; &nbsp; &nbsp; &nbsp; &nbsp; &nbsp; &nbsp; &nbsp; &nbsp; &nbsp; &nbsp; &nbsp; &nbsp; &nbsp; &nbsp; &nbsp; &nbsp; &nbsp; &nbsp; &nbsp; &nbsp; &nbsp; &nbsp; &nbsp; &nbsp; &nbsp; &nbsp; &nbsp; &nbsp; &nbsp; &nbsp; &nbsp;&nbsp;</p></td><td><figure class=\"image\"><img src=\"/pleservico/api/upload/imagem/logo camara.png\"></figure><p>&nbsp;</p></td></tr></tbody></table></figure><p class=\"I16_Tabela_Texto_Centralizado_10\"><hr></p><p class=\"I16_Tabela_Texto_Centralizado_Maiscula_Negrito_12\"><span style=\"background-color:rgb(255,255,255);color:rgb(33,33,33);\">Projeto de Lei Ordinária<strong> Nº , DE 2020</strong></p><p class=\"I03_Centralizado_12\">(Autoria: Do Senhor Deputado Roosevelt Vilela )</p><p class=\"I25_Ementa_alinhado_direita_recuo_centralizado_12\">&nbsp;</p><p class=\"I25_Ementa_alinhado_direita_recuo_centralizado_12\" style=\"text-align:justify;\"><i><strong>Dispõe sobre a instalação de contador regressivo e sonoro de sinalização semafórica para condutores e pedestres no Distrito Federal, e dá outras providências.&nbsp;</strong></i></p><p class=\"I01_Justificado_Recuo_Primeira_Linha_12\">&nbsp;</p><p class=\"I01_Justificado_Recuo_Primeira_Linha_12\" style=\"text-align:justify;\">&nbsp;</p><p class=\"I01_Justificado_Recuo_Primeira_Linha_12\" style=\"text-align:justify;\">A Câmara Legislativa LEGISLATIVA DO DISTRITO FEDERAL DECRETA:&nbsp;</p><p style=\"text-align:justify;\">&nbsp;</p><p class=\"I01_Justificado_Recuo_Primeira_Linha_12\" style=\"text-align:justify;\">Art. 1º No âmbito do Distrito Federal, os semáforos para condutores e pedestres deverão ser equipados com dispositivo de contagem regressiva de tempo.&nbsp;</p><p class=\"I01_Justificado_Recuo_Primeira_Linha_12\" style=\"text-align:justify;\">Parágrafo único. O semáforo para pedestre deverá conter sinalizador sonoro progressivo de alerta de mudança de sinal, destinado à orientação das pessoas, em especial daquelas com deficiência visual.</p><p class=\"I01_Justificado_Recuo_Primeira_Linha_12\" style=\"text-align:justify;\">&nbsp;Art. 2º O tempo para a travessia dos pedestres e veículos deverá ser estabelecido de acordo com as particularidades de cada via ou cruzamento, de modo a permitir a passagem segura do pedestre e do condutor.</p><p class=\"I01_Justificado_Recuo_Primeira_Linha_12\" style=\"text-align:justify;\">Art. 3º Os semáforos de que trata esta Lei serão progressivamente substituídos ou instalados pelo Poder Público, conforme a conveniência e oportunidade administrativa, garantida a prioridade aos pontos de maior periculosidade de travessia, segundo os índices estatísticos de acidentes de atropelamento de pedestres, e aos pontos próximos de hospitais, escolas, rodoviárias, pontos de atendimento a deficientes visuais, universidades, igrejas, estádios, feiras e demais locais onde ocorrem grande concentração de pessoas.</p><p class=\"I01_Justificado_Recuo_Primeira_Linha_12\" style=\"text-align:justify;\">Art. 4º Os editais de licitação para seleção de empresas para prestação serviços de sinalização semafórica deverão prever as condições fixadas nesta Lei.</p><p class=\"I01_Justificado_Recuo_Primeira_Linha_12\" style=\"text-align:justify;\">Art. 5º O Poder Executivo deverá regulamentar esta Lei no prazo de cento e oitenta dias.&nbsp;</p><p class=\"I01_Justificado_Recuo_Primeira_Linha_12\" style=\"text-align:justify;\">Art. 6º Esta lei entra em vigor na data de sua publicação.</p><p class=\"I01_Justificado_Recuo_Primeira_Linha_12\" style=\"text-align:justify;\">Art. 7º Revogam-se as disposições em contrário.&nbsp;</p><p style=\"text-align:justify;\">&nbsp;</p><p style=\"text-align:center;\"><strong>JUSTIFICAÇÃO</strong></p><p style=\"text-align:center;\">&nbsp;</p><p class=\"I01_Justificado_Recuo_Primeira_Linha_12\" style=\"text-align:justify;\">As maiores vítimas do trânsito no Brasil, e no Distrito Federal não é diferente, são os pedestres. Isso pode ser resultado da falta de uma conscientização maior da sociedade civil sobre a fundamental importância do respeito aos direitos do pedestre, bem como pela carência de sinalização adequada e equipamentos semafóricos mais seguros, além de vários outros fatores, o que acaba deixando os nossos pedestres em situação de grande vulnerabilidade, fato esse de conhecimento de todos.&nbsp;</p><p class=\"I01_Justificado_Recuo_Primeira_Linha_12\" style=\"text-align:justify;\">Nesse passo, faz-se indispensável a criação de mecanismo de conscientização dos condutores e de proteção ao pedestre, semeando e sedimentando a cultura de respeito, resgatando os valores de proteção, de modo a ampliar a segurança e reduzir os índices de acidentes de trânsito, e em especial aqueles por atropelamentos. Nessa questão, todos perdem, mas o pedestre é o personagem mais frágil no trânsito e consequentemente sua maior vítima.</p><p class=\"I01_Justificado_Recuo_Primeira_Linha_12\" style=\"text-align:justify;\">Os órgãos públicos desenvolvem importantes campanhas de conscientização dos condutores, seja quanto à velocidade das vias, seja quanto a embriaguez ao volante, mas sabemos que a maioria das vítimas fatais em acidentes de trânsito no Distrito Federal são pedestres.&nbsp;</p><p class=\"I01_Justificado_Recuo_Primeira_Linha_12\" style=\"text-align:justify;\">A presente iniciativa visa à instalação obrigatória e progressiva de sinalizadores sonoros e temporizadores de contagem regressiva nos semáforos de condutores e pedestres, de modo a informar aos motoristas o tempo que ainda lhes resta para ultrapassar diante do semáforo, bem como alertar o pedestre, inclusive os deficientes visuais e auditivos, sobre o momento certo de dar início à travessia de ruas e avenidas.&nbsp;</p><p class=\"I01_Justificado_Recuo_Primeira_Linha_12\" style=\"text-align:justify;\">Insta destacar que, este Projeto de Lei versa sobre equipamentos já testados e em uso em inúmeros países, que além de proporcionar maior informação e segurança aos condutores, são também capazes de dar maior autonomia aos deficientes, a par de ajudarem todos os pedestres em geral a planejarem melhor seus próximos passos, sem açodamento, decisões impensadas ou arriscadas para a sua própria vida e integridade física.&nbsp;</p><p class=\"I01_Justificado_Recuo_Primeira_Linha_12\" style=\"text-align:justify;\">Noutro sentido, cuida-se de medida de baixo impacto econômico, se comparada ao enorme benefício que poderá trazer para a segurança de todos os condutores e, principalmente, para os pedestres.&nbsp;</p><p class=\"I01_Justificado_Recuo_Primeira_Linha_12\" style=\"text-align:justify;\">Assim, a presente proposição garante a instalação de dispositivos acessórios de sinalização sonora e de contagem regressiva do tempo, que serão acoplados aos semáforos de condutores e pedestres já existentes e aos futuros que venham a ser adquiridos pelo Poder Público.&nbsp;</p><p class=\"I01_Justificado_Recuo_Primeira_Linha_12\" style=\"text-align:justify;\">Ademais, a melhoria da sinalização pode ser uma das principais causas da mudança do número de acidentes, ao lado de campanhas educativas e da aplicação correta da tecnologia de trânsito. Em um cenário ideal, fatores como educação, senso de cidadania e tecnologia de gestão do trânsito são bem aplicadas em um trânsito que trabalha pelo bem estar de todos.</p><p class=\"I01_Justificado_Recuo_Primeira_Linha_12\" style=\"text-align:justify;\">O Projeto de Lei atende aos requisitos constitucionais, pois versa sobre matéria local, de competência legislativa distrital e respeita a harmonia e independência entre os Poderes, preceituada no art. 2º da Constituição Federal.&nbsp;</p><p class=\"I01_Justificado_Recuo_Primeira_Linha_12\" style=\"text-align:justify;\">Outrossim, a iniciativa não gera despesa para o Poder Executivo, já que a proposto vai apenas aperfeiçoar contratos já existentes ou que vierem a ser celebrados para o fornecimento de semáforos, de modo a atender à população, em especial aos condutores, e, principalmente, aos pedestres do Distrito Federal.</p><p class=\"I01_Justificado_Recuo_Primeira_Linha_12\" style=\"text-align:justify;\">Além disso, na elaboração do presente projeto de lei foram observados os preceitos de juridicidade, legalidade, regimentalidade e técnica legislativa.</p><p class=\"I01_Justificado_Recuo_Primeira_Linha_12\" style=\"text-align:justify;\">Por fim, cumpre frisar que a presente iniciativa teve como base Projeto de Lei apresentado na Câmara Municipal de Vereadores de São Paulo, de autoria do Vereador Toninho Vespoli.</p><p class=\"I01_Justificado_Recuo_Primeira_Linha_12\" style=\"text-align:justify;\">Estas sa~o as razo~es que justificam o encaminhamento do Projeto de Lei que ora submeto a` elevada considerac¸a~o desta Casa Legislativa, ao tempo em rogo o apoio dos nobres pares no sentido de aprovarem a iniciativa.</p><p style=\"text-align:justify;\">&nbsp;</p><p class=\"I01_Justificado_Recuo_Primeira_Linha_12\" style=\"text-align:justify;\"><span style=\"background-color:white;\">Sala das Sessões, em&nbsp; &nbsp; &nbsp; &nbsp; &nbsp; &nbsp; &nbsp; &nbsp; &nbsp; &nbsp; &nbsp; &nbsp; &nbsp; &nbsp; &nbsp; &nbsp; &nbsp;.</p><p style=\"margin-left:35.4pt;text-align:center;\">&nbsp;</p><p class=\"I03_Centralizado_12\" style=\"margin-left:35.4pt;text-align:center;\"><strong>Roosevelt Vilela</strong></p><p class=\"I03_Centralizado_12\" style=\"text-align:center;\"><strong>Deputado Distrital – PSB</strong></p><p class=\"I16_Tabela_Texto_Centralizado_10\"><hr></p><p class=\"I26_Tabela_Texto_Centralizado_8\">Praça Municipal, Quadra 2, Lote 5, Zona Cívico-Administrativa - CEP: 70.094-902 - Brasília - DF - Tel.: (61) 3348-8000</p><p>Praça Municipal - Quadra 2 - Lote 5, Câmara Legislativa do Distrito Federal, Brasília- Brasília</p><p><br><br>&nbsp;</p></div>'"
      ]
     },
     "execution_count": 32,
     "metadata": {},
     "output_type": "execute_result"
    }
   ],
   "source": [
    "value"
   ]
  },
  {
   "cell_type": "code",
   "execution_count": 27,
   "id": "719cb65a-e7e5-438e-a4f4-8769a759cfe8",
   "metadata": {},
   "outputs": [
    {
     "data": {
      "text/plain": [
       "'0    <div class=\"editavel\"><figure class=\"table\"><t...\\nName: 5, dtype: object'"
      ]
     },
     "execution_count": 27,
     "metadata": {},
     "output_type": "execute_result"
    }
   ],
   "source": [
    "df"
   ]
  },
  {
   "cell_type": "code",
   "execution_count": 17,
   "id": "bb82c2c5-0d5a-4e1e-9f7c-5f591be682da",
   "metadata": {},
   "outputs": [],
   "source": [
    " with  as f:\n",
    "     f.write('linha2\\n')"
   ]
  },
  {
   "cell_type": "code",
   "execution_count": null,
   "id": "36087d5d-fd10-4abb-8e2c-a9477852ca5a",
   "metadata": {},
   "outputs": [],
   "source": []
  },
  {
   "cell_type": "code",
   "execution_count": null,
   "id": "b9d9c588-d6fd-4080-92c0-8858d41a830e",
   "metadata": {},
   "outputs": [],
   "source": []
  }
 ],
 "metadata": {
  "kernelspec": {
   "display_name": "vMDM",
   "language": "python",
   "name": "vmdm"
  },
  "language_info": {
   "codemirror_mode": {
    "name": "ipython",
    "version": 3
   },
   "file_extension": ".py",
   "mimetype": "text/x-python",
   "name": "python",
   "nbconvert_exporter": "python",
   "pygments_lexer": "ipython3",
   "version": "3.8.10"
  }
 },
 "nbformat": 4,
 "nbformat_minor": 5
}

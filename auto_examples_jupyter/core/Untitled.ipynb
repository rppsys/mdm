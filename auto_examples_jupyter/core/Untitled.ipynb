{
 "cells": [
  {
   "cell_type": "code",
   "execution_count": 1,
   "id": "5957c900-e38c-4826-a06e-4e1c378c077b",
   "metadata": {},
   "outputs": [
    {
     "name": "stdout",
     "output_type": "stream",
     "text": [
      "(0, '0.703*\"trees\" + 0.538*\"graph\" + 0.402*\"minors\" + 0.187*\"survey\" + 0.061*\"system\" + 0.060*\"response\" + 0.060*\"time\" + 0.058*\"user\" + 0.049*\"computer\" + 0.035*\"interface\"')\n",
      "(1, '-0.460*\"system\" + -0.373*\"user\" + -0.332*\"eps\" + -0.328*\"interface\" + -0.320*\"response\" + -0.320*\"time\" + -0.293*\"computer\" + -0.280*\"human\" + -0.171*\"survey\" + 0.161*\"trees\"')\n"
     ]
    }
   ],
   "source": [
    "from gensim import corpora, models\n",
    "from gensim.models import LsiModel\n",
    "from gensim.models import TfidfModel\n",
    "from gensim.matutils import corpus2csc\n",
    "from gensim import similarities\n",
    "import numpy as np\n",
    "\n",
    "# Sample corpus\n",
    "documents = [\n",
    "    \"human interface computer\",\n",
    "    \"survey user computer system response time\",\n",
    "    \"eps user interface system\",\n",
    "    \"system human system eps\",\n",
    "    \"user response time\",\n",
    "    \"trees\",\n",
    "    \"graph trees\",\n",
    "    \"graph minors trees\",\n",
    "    \"graph minors survey\"\n",
    "]\n",
    "\n",
    "# Tokenize the documents\n",
    "texts = [[word for word in document.lower().split()] for document in documents]\n",
    "\n",
    "# Create a dictionary representation of the documents\n",
    "dictionary = corpora.Dictionary(texts)\n",
    "\n",
    "# Create a bag of words corpus\n",
    "corpus = [dictionary.doc2bow(text) for text in texts]\n",
    "\n",
    "# Create TF-IDF model\n",
    "tfidf = models.TfidfModel(corpus)\n",
    "corpus_tfidf = tfidf[corpus]\n",
    "\n",
    "# Create LSI model\n",
    "lsi_model = models.LsiModel(corpus_tfidf, id2word=dictionary, num_topics=2)\n",
    "\n",
    "# Get topics\n",
    "topics = lsi_model.print_topics()\n",
    "for topic in topics:\n",
    "    print(topic)\n"
   ]
  },
  {
   "cell_type": "code",
   "execution_count": 2,
   "id": "622e12e4-b482-4780-8b91-f5b37fe7ce59",
   "metadata": {},
   "outputs": [
    {
     "name": "stdout",
     "output_type": "stream",
     "text": [
      "The new text is most similar to document 4 in the corpus.\n"
     ]
    }
   ],
   "source": [
    "# New text to classify\n",
    "new_text = \"user computer system\"\n",
    "\n",
    "# Tokenize and convert to bag of words representation\n",
    "new_text_bow = dictionary.doc2bow(new_text.lower().split())\n",
    "\n",
    "# Convert to TF-IDF representation\n",
    "new_text_tfidf = tfidf[new_text_bow]\n",
    "\n",
    "# Transform using LSI model to get topic distribution\n",
    "new_text_lsi = lsi_model[new_text_tfidf]\n",
    "\n",
    "# Convert the topic distribution to a dense numpy array\n",
    "new_text_lsi_dense = corpus2csc([new_text_lsi], num_terms=lsi_model.num_topics).toarray().flatten()\n",
    "\n",
    "# Calculate cosine similarity with existing documents\n",
    "similarities_matrix = similarities.MatrixSimilarity(lsi_model[corpus])\n",
    "\n",
    "similarities_list = similarities_matrix[new_text_lsi]\n",
    "most_similar_index = np.argmax(similarities_list)\n",
    "\n",
    "print(f\"The new text is most similar to document {most_similar_index} in the corpus.\")\n"
   ]
  }
 ],
 "metadata": {
  "kernelspec": {
   "display_name": "vAI",
   "language": "python",
   "name": "vai"
  },
  "language_info": {
   "codemirror_mode": {
    "name": "ipython",
    "version": 3
   },
   "file_extension": ".py",
   "mimetype": "text/x-python",
   "name": "python",
   "nbconvert_exporter": "python",
   "pygments_lexer": "ipython3",
   "version": "3.8.10"
  }
 },
 "nbformat": 4,
 "nbformat_minor": 5
}

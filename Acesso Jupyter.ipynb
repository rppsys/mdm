{
 "cells": [
  {
   "cell_type": "code",
   "execution_count": 4,
   "id": "45ca7fea-2ff1-45d5-9823-01d2da500ff0",
   "metadata": {},
   "outputs": [],
   "source": [
    "# Dê o comando jupyter-notebook\n",
    "import os, sys\n",
    "import django\n",
    "PROJECTPATH = '/home/ronie/prog/mdm'\n",
    "sys.path.insert(0, PROJECTPATH)\n",
    "os.environ.setdefault('DJANGO_SETTINGS_MODULE', 'setup.settings') \n",
    "os.environ[\"DJANGO_ALLOW_ASYNC_UNSAFE\"] = \"true\"  # https://docs.djangoproject.com/en/4.1/topics/async/#async-safety\n",
    "os.chdir(PROJECTPATH)\n",
    "django.setup()"
   ]
  },
  {
   "cell_type": "code",
   "execution_count": 5,
   "id": "baf0e49c-5054-42d2-a910-b025e6236a4f",
   "metadata": {},
   "outputs": [],
   "source": [
    "from appMDM.models import Doc"
   ]
  },
  {
   "cell_type": "code",
   "execution_count": 4,
   "id": "ded577a9-786c-4348-a60f-71c11d78be7a",
   "metadata": {},
   "outputs": [
    {
     "data": {
      "text/plain": [
       "<QuerySet []>"
      ]
     },
     "execution_count": 4,
     "metadata": {},
     "output_type": "execute_result"
    }
   ],
   "source": [
    "Doc.objects.all()"
   ]
  },
  {
   "cell_type": "code",
   "execution_count": 1,
   "id": "34a18201-1943-4903-bfa8-4d362fffdc01",
   "metadata": {},
   "outputs": [],
   "source": [
    "# ollama"
   ]
  },
  {
   "cell_type": "code",
   "execution_count": 6,
   "id": "e72b03f7-33c9-4bf6-a4ad-b516aed1f4e5",
   "metadata": {},
   "outputs": [],
   "source": [
    "objDoc = Doc()"
   ]
  },
  {
   "cell_type": "code",
   "execution_count": 7,
   "id": "58ca24af-77d2-4f46-a4b7-0ea09f4e5127",
   "metadata": {},
   "outputs": [],
   "source": [
    "objDoc.txtDoc = 'oi'"
   ]
  },
  {
   "cell_type": "code",
   "execution_count": 8,
   "id": "b6e2019b-cd90-45b1-aa7f-deb6ffb189dd",
   "metadata": {},
   "outputs": [],
   "source": [
    "objDoc.save()"
   ]
  }
 ],
 "metadata": {
  "kernelspec": {
   "display_name": "vMDM",
   "language": "python",
   "name": "vmdm"
  },
  "language_info": {
   "codemirror_mode": {
    "name": "ipython",
    "version": 3
   },
   "file_extension": ".py",
   "mimetype": "text/x-python",
   "name": "python",
   "nbconvert_exporter": "python",
   "pygments_lexer": "ipython3",
   "version": "3.8.10"
  }
 },
 "nbformat": 4,
 "nbformat_minor": 5
}

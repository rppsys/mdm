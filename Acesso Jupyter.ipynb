{
 "cells": [
  {
   "cell_type": "code",
   "execution_count": 2,
   "id": "45ca7fea-2ff1-45d5-9823-01d2da500ff0",
   "metadata": {},
   "outputs": [],
   "source": [
    "# Dê o comando jupyter-notebook\n",
    "import os, sys\n",
    "import django\n",
    "PROJECTPATH = '/home/ronie/prog/mdm'\n",
    "sys.path.insert(0, PROJECTPATH)\n",
    "os.environ.setdefault('DJANGO_SETTINGS_MODULE', 'setup.settings') \n",
    "os.environ[\"DJANGO_ALLOW_ASYNC_UNSAFE\"] = \"true\"  # https://docs.djangoproject.com/en/4.1/topics/async/#async-safety\n",
    "os.chdir(PROJECTPATH)\n",
    "django.setup()"
   ]
  },
  {
   "cell_type": "code",
   "execution_count": 3,
   "id": "baf0e49c-5054-42d2-a910-b025e6236a4f",
   "metadata": {},
   "outputs": [],
   "source": [
    "from appMDM.models import Doc"
   ]
  },
  {
   "cell_type": "code",
   "execution_count": 4,
   "id": "ded577a9-786c-4348-a60f-71c11d78be7a",
   "metadata": {},
   "outputs": [
    {
     "data": {
      "text/plain": [
       "<QuerySet []>"
      ]
     },
     "execution_count": 4,
     "metadata": {},
     "output_type": "execute_result"
    }
   ],
   "source": [
    "Doc.objects.all()"
   ]
  },
  {
   "cell_type": "code",
   "execution_count": null,
   "id": "34a18201-1943-4903-bfa8-4d362fffdc01",
   "metadata": {},
   "outputs": [],
   "source": []
  }
 ],
 "metadata": {
  "kernelspec": {
   "display_name": "vMDM",
   "language": "python",
   "name": "vmdm"
  },
  "language_info": {
   "codemirror_mode": {
    "name": "ipython",
    "version": 3
   },
   "file_extension": ".py",
   "mimetype": "text/x-python",
   "name": "python",
   "nbconvert_exporter": "python",
   "pygments_lexer": "ipython3",
   "version": "3.8.10"
  }
 },
 "nbformat": 4,
 "nbformat_minor": 5
}
